{
 "cells": [
  {
   "cell_type": "code",
   "execution_count": 1,
   "metadata": {},
   "outputs": [],
   "source": [
    "from llama_index.llms import Ollama\n",
    "llm = Ollama(model=\"llama2\")\n",
    "resp = llm.complete(\"Hi\")"
   ]
  },
  {
   "cell_type": "code",
   "execution_count": 6,
   "metadata": {},
   "outputs": [
    {
     "data": {
      "text/plain": [
       "Response(response='I\\'m not able to understand the context of the query \"hi\" as it is a general greeting and does not provide any specific information or context related to the files you provided. Could you please provide more details or clarify what you are trying to ask?', source_nodes=[NodeWithScore(node=TextNode(id_='f174feab-ed6b-4b9e-804a-37dabb26acf1', embedding=None, metadata={'filename': 'tps25750.pdf', 'file_directory': 'docs', 'last_modified': '2023-12-01T17:30:06', 'filetype': 'application/pdf', 'page_number': 22}, excluded_embed_metadata_keys=[], excluded_llm_metadata_keys=[], relationships={<NodeRelationship.SOURCE: '1'>: RelatedNodeInfo(node_id='8d7ff75e-4d82-4f52-ace0-df945fd01f80', node_type=<ObjectType.DOCUMENT: '4'>, metadata={'filename': 'tps25750.pdf', 'file_directory': 'docs', 'last_modified': '2023-12-01T17:30:06', 'filetype': 'application/pdf', 'page_number': 22}, hash='83bc389da16376dbe5c1780092040d4afce95707d1d20cd62e94823cadfe97fc')}, hash='83bc389da16376dbe5c1780092040d4afce95707d1d20cd62e94823cadfe97fc', text='Figure 7-4. VOVP4RCP (Setting 2) vs. Temperature\\n\\nTJ (oC)RPP_HV (m:)\\n\\n20 0 20 40 60 80 100 120 14016014 16 18 20 22 24 2628 TypG\\n\\n10\\n\\n50\\n\\n0.3\\n\\n0.3\\n\\n8\\n\\n0.2\\n\\n10 Ps\\n\\n2\\n\\nSOAf\\n\\n10\\n\\n30\\n\\n3\\n\\n30\\n\\n1\\n\\n1\\n\\n10 ms\\n\\n40500.1\\n\\n4\\n\\n0.1\\n\\n7\\n\\n0.2\\n\\nSource-to-Source Voltage (V)Source-to-Source Current (A)\\n\\nSingle Pulse Duration\\n\\n100\\n\\n1 ms\\n\\n100 Ps\\n\\n0.7\\n\\n0.5\\n\\n0.5\\n\\n100 ms\\n\\n0.7\\n\\n6\\n\\n5\\n\\n20\\n\\n70\\n\\n2\\n\\n20\\n\\n7\\n\\n3\\n\\n5\\n\\nFigure 7-6. Safe-Operating-Area (SOA) of PPHV for TPS25750D\\n\\nFigure 7-5. RPPHV vs. Temperature for TPS25750D\\n\\n22', start_char_idx=None, end_char_idx=None, text_template='{metadata_str}\\n\\n{content}', metadata_template='{key}: {value}', metadata_seperator='\\n'), score=0.7939353885838237), NodeWithScore(node=TextNode(id_='587d7f32-c188-4fe9-92cc-7cbc3ce8bda7', embedding=None, metadata={'filename': 'IEEE.pdf', 'file_directory': 'docs', 'last_modified': '2023-09-28T10:34:08', 'filetype': 'application/pdf', 'page_number': 7}, excluded_embed_metadata_keys=[], excluded_llm_metadata_keys=[], relationships={<NodeRelationship.SOURCE: '1'>: RelatedNodeInfo(node_id='7f8d8046-beb6-4d1d-83bd-d8b427812776', node_type=<ObjectType.DOCUMENT: '4'>, metadata={'filename': 'IEEE.pdf', 'file_directory': 'docs', 'last_modified': '2023-09-28T10:34:08', 'filetype': 'application/pdf', 'page_number': 7}, hash='b081020404af5cb211ba308c5f94dc86af30e0078164f9c74230e5092444ca18')}, hash='b081020404af5cb211ba308c5f94dc86af30e0078164f9c74230e5092444ca18', text='[15] Bhavani, M., Peeyush, K.P., Jayabarathi, R. (2023). Plant Health Ana- lyzer Using Convolutional Neural Networks. In: Bindhu, V., Tavares, J.M.R.S., Vuppalapati, C. (eds) Proceedings of Fourth International Conference on Communication, Computing and Electronics Systems . Lecture Notes in Electrical Engineering, vol 977. Springer, Singapore. https://doi.org/10.1007/978-981-19-7753-426.', start_char_idx=None, end_char_idx=None, text_template='{metadata_str}\\n\\n{content}', metadata_template='{key}: {value}', metadata_seperator='\\n'), score=0.7938618644176723)], metadata={'f174feab-ed6b-4b9e-804a-37dabb26acf1': {'filename': 'tps25750.pdf', 'file_directory': 'docs', 'last_modified': '2023-12-01T17:30:06', 'filetype': 'application/pdf', 'page_number': 22}, '587d7f32-c188-4fe9-92cc-7cbc3ce8bda7': {'filename': 'IEEE.pdf', 'file_directory': 'docs', 'last_modified': '2023-09-28T10:34:08', 'filetype': 'application/pdf', 'page_number': 7}})"
      ]
     },
     "execution_count": 6,
     "metadata": {},
     "output_type": "execute_result"
    }
   ],
   "source": [
    "from llama_index import StorageContext, load_index_from_storage , ServiceContext\n",
    "from dotenv import load_dotenv, find_dotenv\n",
    "from llama_index.llms import Ollama\n",
    "from llama_index import ServiceContext\n",
    "load_dotenv(find_dotenv(), override=True)\n",
    "llm = Ollama(model=\"llama2\")\n",
    "service_context = ServiceContext.from_defaults(\n",
    "    llm=llm,\n",
    "    embed_model=\"local:BAAI/bge-large-en\"\n",
    ")\n",
    "# Load secrets from .env file\n",
    "\n",
    "storage_context = StorageContext.from_defaults(persist_dir=\"./content/VectorStore\")\n",
    "loaded_index = load_index_from_storage(storage_context,service_context=service_context)\n",
    "\n",
    "qe = loaded_index.as_query_engine()\n",
    "qe.query(\"hi\")\n"
   ]
  },
  {
   "cell_type": "code",
   "execution_count": 7,
   "metadata": {},
   "outputs": [
    {
     "name": "stderr",
     "output_type": "stream",
     "text": [
      "[nltk_data] Error loading punkt: <urlopen error [WinError 10060] A\n",
      "[nltk_data]     connection attempt failed because the connected party\n",
      "[nltk_data]     did not properly respond after a period of time, or\n",
      "[nltk_data]     established connection failed because connected host\n",
      "[nltk_data]     has failed to respond>\n"
     ]
    }
   ],
   "source": [
    "from llama_index import VectorStoreIndex, Document\n",
    "documents = list(map(lambda chunk: Document(text=chunk),chunks))\n",
    "index = VectorStoreIndex.from_documents(documents)"
   ]
  },
  {
   "cell_type": "code",
   "execution_count": 8,
   "metadata": {},
   "outputs": [],
   "source": [
    "query_engine = index.as_query_engine()"
   ]
  },
  {
   "cell_type": "code",
   "execution_count": 9,
   "metadata": {},
   "outputs": [
    {
     "data": {
      "text/plain": [
       "Response(response='Yes, the ID of Sudeep is 1233.', source_nodes=[NodeWithScore(node=TextNode(id_='6d6707d7-b3a4-4747-8250-954745fe12f7', embedding=None, metadata={}, excluded_embed_metadata_keys=[], excluded_llm_metadata_keys=[], relationships={<NodeRelationship.SOURCE: '1'>: RelatedNodeInfo(node_id='b337f6d3-a820-43ae-9d0b-c92787d83e96', node_type=<ObjectType.DOCUMENT: '4'>, metadata={}, hash='1e9f61f747ca120421758ab05158a814b4f1f8976eafbe169b9597dbb4310809')}, hash='1e9f61f747ca120421758ab05158a814b4f1f8976eafbe169b9597dbb4310809', text='employee name\\nname - sudeep\\nid - 1233', start_char_idx=None, end_char_idx=None, text_template='{metadata_str}\\n\\n{content}', metadata_template='{key}: {value}', metadata_seperator='\\n'), score=0.8793103012645493)], metadata={'6d6707d7-b3a4-4747-8250-954745fe12f7': {}})"
      ]
     },
     "execution_count": 9,
     "metadata": {},
     "output_type": "execute_result"
    }
   ],
   "source": [
    "query_engine.query(\"do you know id of sudeep?\")"
   ]
  }
 ],
 "metadata": {
  "kernelspec": {
   "display_name": ".venv",
   "language": "python",
   "name": "python3"
  },
  "language_info": {
   "codemirror_mode": {
    "name": "ipython",
    "version": 3
   },
   "file_extension": ".py",
   "mimetype": "text/x-python",
   "name": "python",
   "nbconvert_exporter": "python",
   "pygments_lexer": "ipython3",
   "version": "3.11.4"
  }
 },
 "nbformat": 4,
 "nbformat_minor": 2
}
